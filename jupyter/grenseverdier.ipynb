{
 "cells": [
  {
   "cell_type": "markdown",
   "id": "eb11d368-86ad-4595-8935-112a47517ed3",
   "metadata": {},
   "source": [
    "# Sjekke grenseverdier\n",
    "\n",
    "$$\n",
    "f \\left( x \\right) = \\frac{2 \\left( x^2-16 \\right)}{x-4}\n",
    "$$"
   ]
  },
  {
   "cell_type": "code",
   "execution_count": 3,
   "id": "994eb22b-003b-4f95-b709-65cc6544c958",
   "metadata": {
    "tags": []
   },
   "outputs": [],
   "source": [
    "f = lambda x: 2 * (x ** 2 - 16) / (x - 4)"
   ]
  },
  {
   "cell_type": "code",
   "execution_count": 4,
   "id": "6b434ea2-5019-45aa-9d6e-c1e3718c610f",
   "metadata": {
    "tags": []
   },
   "outputs": [
    {
     "data": {
      "text/plain": [
       "18.0"
      ]
     },
     "execution_count": 4,
     "metadata": {},
     "output_type": "execute_result"
    }
   ],
   "source": [
    "f(5)"
   ]
  },
  {
   "cell_type": "code",
   "execution_count": 5,
   "id": "76850f4a-c003-4d8e-b994-fe8f579ce28a",
   "metadata": {
    "tags": []
   },
   "outputs": [
    {
     "data": {
      "text/plain": [
       "17.0"
      ]
     },
     "execution_count": 5,
     "metadata": {},
     "output_type": "execute_result"
    }
   ],
   "source": [
    "f(4.5)"
   ]
  },
  {
   "cell_type": "markdown",
   "id": "6a323927-7e36-42e9-8483-70d62cc6f439",
   "metadata": {},
   "source": [
    "## Sjekke ovenfra\n",
    "\n",
    "$$\n",
    "\\Delta x = \\text{Liten endring i $x$}\n",
    "$$"
   ]
  },
  {
   "cell_type": "code",
   "execution_count": 40,
   "id": "81363f3d-61db-4bfd-ae0b-773fbf622a9c",
   "metadata": {},
   "outputs": [
    {
     "name": "stdout",
     "output_type": "stream",
     "text": [
      "x              f(x)           \n",
      "4.100000       16.200000      \n",
      "4.010000       16.020000      \n",
      "4.001000       16.002000      \n",
      "4.000100       16.000200      \n",
      "4.000010       16.000020      \n",
      "4.000001       16.000002      \n"
     ]
    }
   ],
   "source": [
    "print(f\"{'x':<15}{'f(x)':<15}\") # Overskrift\n",
    "\n",
    "for i in range(1, 7):\n",
    "    dx = 10 ** (-i) # dx blir mindre og mindre\n",
    "    x = 4 + dx\n",
    "    y = f(x)\n",
    "    print(f\"{x:<15.6f}{y:<15.6f}\")"
   ]
  },
  {
   "cell_type": "markdown",
   "id": "61109d7c-2a1d-48b0-93ca-fbdfdde74a71",
   "metadata": {},
   "source": [
    "## Sjekke nedenfra"
   ]
  },
  {
   "cell_type": "code",
   "execution_count": 42,
   "id": "645b9f3a-c08b-4b13-b817-41d56d38bd30",
   "metadata": {
    "tags": []
   },
   "outputs": [
    {
     "name": "stdout",
     "output_type": "stream",
     "text": [
      "x              f(x)           \n",
      "3.900000       15.800000      \n",
      "3.990000       15.980000      \n",
      "3.999000       15.998000      \n",
      "3.999900       15.999800      \n",
      "3.999990       15.999980      \n",
      "3.999999       15.999998      \n"
     ]
    }
   ],
   "source": [
    "print(f\"{'x':<15}{'f(x)':<15}\")\n",
    "\n",
    "for i in range(1, 7):\n",
    "    dx = 10 ** (-i)\n",
    "    x = 4 - dx\n",
    "    y = f(x)\n",
    "    print(f\"{x:<15.6f}{y:<15.6f}\")"
   ]
  },
  {
   "cell_type": "markdown",
   "id": "3f81face-cc0b-4c0c-8d0f-b88320f821a9",
   "metadata": {},
   "source": [
    "## Konklusjon\n",
    "Grenseverdien til $f(x)$ er $16$ når $x$ går mot $4$.\n",
    "\n",
    "$$\n",
    "\\lim_{x \\rightarrow 4} f \\left( x \\right) = 4\n",
    "$$\n",
    "\n",
    "der \"lim\" kommer fra det greske ordet \"limes\" (også engelsk \"limits\")\n",
    "\n",
    "$$\n",
    "f(x) \\rightarrow 16 \\text{ når } x \\rightarrow 4\n",
    "$$"
   ]
  }
 ],
 "metadata": {
  "kernelspec": {
   "display_name": "Python 3 (ipykernel)",
   "language": "python",
   "name": "python3"
  },
  "language_info": {
   "codemirror_mode": {
    "name": "ipython",
    "version": 3
   },
   "file_extension": ".py",
   "mimetype": "text/x-python",
   "name": "python",
   "nbconvert_exporter": "python",
   "pygments_lexer": "ipython3",
   "version": "3.10.9"
  }
 },
 "nbformat": 4,
 "nbformat_minor": 5
}
