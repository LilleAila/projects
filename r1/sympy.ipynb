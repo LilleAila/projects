{
 "cells": [
  {
   "cell_type": "markdown",
   "id": "b20148c7-8f4a-4a4e-802e-7075cc417e17",
   "metadata": {},
   "source": [
    "# Sympy\n",
    "\n",
    "Sympy er som numpy men for symbolske utregninger, litt som CAS"
   ]
  },
  {
   "cell_type": "code",
   "execution_count": 67,
   "id": "d74c936b-7f0c-4c86-bd0a-e837c803f3ea",
   "metadata": {
    "tags": []
   },
   "outputs": [],
   "source": [
    "import sympy as sp"
   ]
  },
  {
   "cell_type": "code",
   "execution_count": 68,
   "id": "cb2b9d92-8325-4ac6-95aa-4c66203b7c09",
   "metadata": {
    "tags": []
   },
   "outputs": [],
   "source": [
    "sp.init_printing(use_unicode=True)\n",
    "x, y = sp.symbols(\"x y\") # Symboler som variabler i matte"
   ]
  },
  {
   "cell_type": "code",
   "execution_count": 69,
   "id": "702695f8-108c-4013-b79a-c308c0baf086",
   "metadata": {
    "tags": []
   },
   "outputs": [
    {
     "data": {
      "image/png": "[encoded data removed]",
      "text/latex": [
       "$\\displaystyle x^{2} + 2 x + 1$"
      ],
      "text/plain": [
       " 2          \n",
       "x  + 2⋅x + 1"
      ]
     },
     "execution_count": 69,
     "metadata": {},
     "output_type": "execute_result"
    }
   ],
   "source": [
    "expression = x ** 2 + 2 * x + 1\n",
    "expression"
   ]
  },
  {
   "cell_type": "code",
   "execution_count": 21,
   "id": "f1d8b44f-7730-44c9-801c-fd032dc42ff0",
   "metadata": {
    "tags": []
   },
   "outputs": [
    {
     "data": {
      "text/plain": [
       "'x^{2} + 2 x + 1'"
      ]
     },
     "execution_count": 21,
     "metadata": {},
     "output_type": "execute_result"
    }
   ],
   "source": [
    "sp.latex(expression)"
   ]
  },
  {
   "cell_type": "code",
   "execution_count": 17,
   "id": "20d55109-428b-4e4f-a76f-3aa5b5b51b90",
   "metadata": {
    "tags": []
   },
   "outputs": [
    {
     "data": {
      "image/png": "[encoded data removed]",
      "text/latex": [
       "$\\displaystyle \\left(x + 1\\right)^{2}$"
      ],
      "text/plain": [
       "       2\n",
       "(x + 1) "
      ]
     },
     "execution_count": 17,
     "metadata": {},
     "output_type": "execute_result"
    }
   ],
   "source": [
    "factored = sp.factor(expression)\n",
    "factored"
   ]
  },
  {
   "cell_type": "code",
   "execution_count": 7,
   "id": "0e1f7155-8311-4b8a-9dd3-d2f695dd2fba",
   "metadata": {
    "tags": []
   },
   "outputs": [
    {
     "data": {
      "image/png": "[encoded data removed]",
      "text/latex": [
       "$\\displaystyle x^{3} - 9 x^{2} + 27 x - 27$"
      ],
      "text/plain": [
       " 3      2            \n",
       "x  - 9⋅x  + 27⋅x - 27"
      ]
     },
     "execution_count": 7,
     "metadata": {},
     "output_type": "execute_result"
    }
   ],
   "source": [
    "sp.expand((x-3)**3)"
   ]
  },
  {
   "cell_type": "markdown",
   "id": "d862388e-e233-4772-9ca5-6a3fbf8854ab",
   "metadata": {},
   "source": [
    "## Likninger\n",
    "\n",
    "Likninger blir lest som det man skriver = 0."
   ]
  },
  {
   "cell_type": "code",
   "execution_count": 8,
   "id": "72e0f550-d876-4088-847d-bcdaa3e967e9",
   "metadata": {
    "tags": []
   },
   "outputs": [
    {
     "data": {
      "image/png": "[encoded data removed]",
      "text/latex": [
       "$\\displaystyle \\left[ -1\\right]$"
      ],
      "text/plain": [
       "[-1]"
      ]
     },
     "execution_count": 8,
     "metadata": {},
     "output_type": "execute_result"
    }
   ],
   "source": [
    "sp.solve(x ** 2 + 2 * x + 1, x)"
   ]
  },
  {
   "cell_type": "code",
   "execution_count": 10,
   "id": "af70efa4-6da7-4423-a856-98119db548b6",
   "metadata": {
    "tags": []
   },
   "outputs": [
    {
     "data": {
      "image/png": "[encoded data removed]",
      "text/latex": [
       "$\\displaystyle \\left[ \\frac{2 x}{3} - \\frac{4}{3}\\right]$"
      ],
      "text/plain": [
       "⎡2⋅x   4⎤\n",
       "⎢─── - ─⎥\n",
       "⎣ 3    3⎦"
      ]
     },
     "execution_count": 10,
     "metadata": {},
     "output_type": "execute_result"
    }
   ],
   "source": [
    "sp.solve(2*x - 3*y-4, y)"
   ]
  },
  {
   "cell_type": "code",
   "execution_count": 11,
   "id": "00054767-b049-4575-af84-e4dae2fe2910",
   "metadata": {
    "tags": []
   },
   "outputs": [
    {
     "data": {
      "image/png": "[encoded data removed]",
      "text/latex": [
       "$\\displaystyle \\left[ \\frac{3 y}{2} + 2\\right]$"
      ],
      "text/plain": [
       "⎡3⋅y    ⎤\n",
       "⎢─── + 2⎥\n",
       "⎣ 2     ⎦"
      ]
     },
     "execution_count": 11,
     "metadata": {},
     "output_type": "execute_result"
    }
   ],
   "source": [
    "sp.solve(2*x - 3*y-4, x)"
   ]
  },
  {
   "cell_type": "markdown",
   "id": "1f54cc26-ab8a-4845-b36f-464f51688269",
   "metadata": {},
   "source": [
    "### Likningssett\n",
    "\n",
    "`,` blir i dette tilfellet tolket som `=`."
   ]
  },
  {
   "cell_type": "code",
   "execution_count": 15,
   "id": "02cfca28-622d-416c-a3cb-4d898120c612",
   "metadata": {
    "tags": []
   },
   "outputs": [
    {
     "data": {
      "image/png": "[encoded data removed]",
      "text/latex": [
       "$\\displaystyle \\left\\{ x : 1, \\  y : 1\\right\\}$"
      ],
      "text/plain": [
       "{x: 1, y: 1}"
      ]
     },
     "execution_count": 15,
     "metadata": {},
     "output_type": "execute_result"
    }
   ],
   "source": [
    "lkn1 = sp.Eq(x + y, 2)\n",
    "lkn2 = sp.Eq(2 * x + y, 3)\n",
    "lsn = sp.solve((lkn1, lkn2), (x, y))\n",
    "lsn"
   ]
  },
  {
   "cell_type": "markdown",
   "id": "03c60853-0874-4483-a283-133a47f29e96",
   "metadata": {},
   "source": [
    "## Logaritmer"
   ]
  },
  {
   "cell_type": "code",
   "execution_count": 19,
   "id": "c035894b-9130-40cc-9aad-c93f0be46db6",
   "metadata": {
    "tags": []
   },
   "outputs": [
    {
     "data": {
      "image/png": "[encoded data removed]",
      "text/latex": [
       "$\\displaystyle \\log{\\left(x y \\right)}$"
      ],
      "text/plain": [
       "log(x⋅y)"
      ]
     },
     "execution_count": 19,
     "metadata": {},
     "output_type": "execute_result"
    }
   ],
   "source": [
    "sp.log(x * y)"
   ]
  },
  {
   "cell_type": "code",
   "execution_count": 26,
   "id": "409212d7-b1d8-42f6-a1c1-19b764920548",
   "metadata": {
    "tags": []
   },
   "outputs": [],
   "source": [
    "#sp.logcombine(sp.log(x) + sp.log(y))\n",
    "#sp.expand_log(sp.log(x * y))"
   ]
  },
  {
   "cell_type": "markdown",
   "id": "3e88279c-d780-4a50-a8d4-f0b1badbc4f9",
   "metadata": {},
   "source": [
    "# Derivere"
   ]
  },
  {
   "cell_type": "code",
   "execution_count": 27,
   "id": "23a869d6-f669-4e48-b140-b582d6ad2f92",
   "metadata": {
    "tags": []
   },
   "outputs": [
    {
     "data": {
      "image/png": "[encoded data removed]",
      "text/latex": [
       "$\\displaystyle 3 x^{2}$"
      ],
      "text/plain": [
       "   2\n",
       "3⋅x "
      ]
     },
     "execution_count": 27,
     "metadata": {},
     "output_type": "execute_result"
    }
   ],
   "source": [
    "sp.diff(x**3, x)"
   ]
  },
  {
   "cell_type": "code",
   "execution_count": 30,
   "id": "6ba91e42-13f0-4226-9160-bd721f4faa91",
   "metadata": {
    "tags": []
   },
   "outputs": [
    {
     "data": {
      "image/png": "[encoded data removed]",
      "text/latex": [
       "$\\displaystyle 6 x$"
      ],
      "text/plain": [
       "6⋅x"
      ]
     },
     "execution_count": 30,
     "metadata": {},
     "output_type": "execute_result"
    }
   ],
   "source": [
    "sp.diff(x**3, x, 2)"
   ]
  },
  {
   "cell_type": "code",
   "execution_count": 7,
   "id": "b7e29c3b-56ec-4e3f-a566-a6f182b5e18f",
   "metadata": {
    "tags": []
   },
   "outputs": [
    {
     "data": {
      "image/png": "[encoded data removed]",
      "text/latex": [
       "$\\displaystyle \\left( 2 x^{3} e^{x^{2} + 1} + 2 x e^{x^{2} + 1}, \\  2 e x \\left(x^{2} + 1\\right) e^{x^{2}}\\right)$"
      ],
      "text/plain": [
       "⎛       2             2                      ⎛ 2⎞⎞\n",
       "⎜   3  x  + 1        x  + 1        ⎛ 2    ⎞  ⎝x ⎠⎟\n",
       "⎝2⋅x ⋅ℯ       + 2⋅x⋅ℯ      , 2⋅ℯ⋅x⋅⎝x  + 1⎠⋅ℯ    ⎠"
      ]
     },
     "execution_count": 7,
     "metadata": {},
     "output_type": "execute_result"
    }
   ],
   "source": [
    "uttrykk = sp.exp(x**2 + 1) * (x ** 2) # exp = e^\n",
    "derivert = sp.diff(uttrykk, x)\n",
    "forenklet = sp.factor(derivert)\n",
    "(derivert, forenklet)"
   ]
  },
  {
   "cell_type": "markdown",
   "id": "22cdc576-e124-48a5-b312-f0d478dfe24f",
   "metadata": {},
   "source": [
    "## Grenseverdier"
   ]
  },
  {
   "cell_type": "code",
   "execution_count": 9,
   "id": "43ae502e-d622-4d3a-9112-b3ee235116de",
   "metadata": {
    "tags": []
   },
   "outputs": [
    {
     "data": {
      "image/png": "[encoded data removed]",
      "text/latex": [
       "$\\displaystyle \\left( \\infty, \\  -\\infty\\right)$"
      ],
      "text/plain": [
       "(∞, -∞)"
      ]
     },
     "execution_count": 9,
     "metadata": {},
     "output_type": "execute_result"
    }
   ],
   "source": [
    "(sp.oo, -sp.oo)"
   ]
  },
  {
   "cell_type": "code",
   "execution_count": 12,
   "id": "b81bff8d-35dc-40bf-8ea7-29db8dbd5d5c",
   "metadata": {
    "tags": []
   },
   "outputs": [
    {
     "data": {
      "image/png": "[encoded data removed]",
      "text/latex": [
       "$\\displaystyle 0$"
      ],
      "text/plain": [
       "0"
      ]
     },
     "execution_count": 12,
     "metadata": {},
     "output_type": "execute_result"
    }
   ],
   "source": [
    "sp.limit(sp.exp(3 - 2 * x), x, sp.oo)"
   ]
  },
  {
   "cell_type": "code",
   "execution_count": 13,
   "id": "b38d4456-9c60-48c8-b5f1-7174d2bd2b3a",
   "metadata": {
    "tags": []
   },
   "outputs": [
    {
     "data": {
      "image/png": "[encoded data removed]",
      "text/latex": [
       "$\\displaystyle \\infty$"
      ],
      "text/plain": [
       "∞"
      ]
     },
     "execution_count": 13,
     "metadata": {},
     "output_type": "execute_result"
    }
   ],
   "source": [
    "sp.limit(sp.exp(3 - 2 * x), x, -sp.oo)"
   ]
  },
  {
   "cell_type": "code",
   "execution_count": 14,
   "id": "21ab5b8d-2513-4482-93f9-9b361cb3a4a8",
   "metadata": {
    "tags": []
   },
   "outputs": [
    {
     "data": {
      "image/png": "[encoded data removed]",
      "text/latex": [
       "$\\displaystyle 1$"
      ],
      "text/plain": [
       "1"
      ]
     },
     "execution_count": 14,
     "metadata": {},
     "output_type": "execute_result"
    }
   ],
   "source": [
    "sp.limit(x ** 2 / x ** 2, x, sp.oo)"
   ]
  },
  {
   "cell_type": "code",
   "execution_count": 15,
   "id": "19f0efc7-12cc-47fa-9351-cdbfdf8861ab",
   "metadata": {
    "tags": []
   },
   "outputs": [
    {
     "data": {
      "image/png": "[encoded data removed]",
      "text/latex": [
       "$\\displaystyle 1$"
      ],
      "text/plain": [
       "1"
      ]
     },
     "execution_count": 15,
     "metadata": {},
     "output_type": "execute_result"
    }
   ],
   "source": [
    "sp.limit(x ** 2 / x ** 2, x, 0)"
   ]
  },
  {
   "cell_type": "markdown",
   "id": "2a34d873-082d-4b46-95cb-2743535d65c4",
   "metadata": {},
   "source": [
    "### Ensidige grenseverdier og delte forskrifter"
   ]
  },
  {
   "cell_type": "code",
   "execution_count": 71,
   "id": "5a983763-7cb7-416c-ac4a-807566ef54d8",
   "metadata": {
    "tags": []
   },
   "outputs": [
    {
     "data": {
      "text/latex": [
       "$\\displaystyle \\begin{cases} x^{2} & \\text{for}\\: x < 0 \\\\x & \\text{otherwise} \\end{cases}$"
      ],
      "text/plain": [
       "⎧ 2           \n",
       "⎪x   for x < 0\n",
       "⎨             \n",
       "⎪x   otherwise\n",
       "⎩             "
      ]
     },
     "execution_count": 71,
     "metadata": {},
     "output_type": "execute_result"
    }
   ],
   "source": [
    "delt_f = sp.Piecewise(\n",
    "    (x**2, x < 0),\n",
    "    (x, x >= 0)\n",
    ")\n",
    "delt_f"
   ]
  },
  {
   "cell_type": "code",
   "execution_count": 72,
   "id": "cbf87d16-0ae8-4c54-97f8-ab7e281aaedc",
   "metadata": {
    "tags": []
   },
   "outputs": [
    {
     "data": {
      "text/plain": [
       "(0, 0, True)"
      ]
     },
     "execution_count": 72,
     "metadata": {},
     "output_type": "execute_result"
    }
   ],
   "source": [
    "delt_vs = sp.limit(delt_f, x, 0, dir=\"-\")\n",
    "delt_hs = sp.limit(delt_f, x, 0, dir=\"+\")\n",
    "(delt_vs, delt_hs, delt_vs == delt_hs)"
   ]
  },
  {
   "cell_type": "code",
   "execution_count": 76,
   "id": "7237094c-c185-4884-8161-89ff99caba7b",
   "metadata": {
    "tags": []
   },
   "outputs": [
    {
     "ename": "AttributeError",
     "evalue": "'ExprCondPair' object has no attribute '_eval_is_meromorphic'",
     "output_type": "error",
     "traceback": [
      "\u001b[0;31m---------------------------------------------------------------------------\u001b[0m",
      "\u001b[0;31mAttributeError\u001b[0m                            Traceback (most recent call last)",
      "Cell \u001b[0;32mIn[76], line 2\u001b[0m\n\u001b[1;32m      1\u001b[0m d_delt_f \u001b[38;5;241m=\u001b[39m sp\u001b[38;5;241m.\u001b[39mdiff(delt_f)\n\u001b[0;32m----> 2\u001b[0m venstre \u001b[38;5;241m=\u001b[39m \u001b[43msp\u001b[49m\u001b[38;5;241;43m.\u001b[39;49m\u001b[43mlimit\u001b[49m\u001b[43m(\u001b[49m\u001b[43md_delt_f\u001b[49m\u001b[43m,\u001b[49m\u001b[43m \u001b[49m\u001b[43mx\u001b[49m\u001b[43m,\u001b[49m\u001b[43m \u001b[49m\u001b[38;5;241;43m0\u001b[39;49m\u001b[43m,\u001b[49m\u001b[43m \u001b[49m\u001b[38;5;28;43mdir\u001b[39;49m\u001b[38;5;241;43m=\u001b[39;49m\u001b[38;5;124;43m\"\u001b[39;49m\u001b[38;5;124;43m-\u001b[39;49m\u001b[38;5;124;43m\"\u001b[39;49m\u001b[43m)\u001b[49m\n\u001b[1;32m      3\u001b[0m høyre \u001b[38;5;241m=\u001b[39m sp\u001b[38;5;241m.\u001b[39mlimit(d_delt_f, x, \u001b[38;5;241m0\u001b[39m, \u001b[38;5;28mdir\u001b[39m\u001b[38;5;241m=\u001b[39m\u001b[38;5;124m\"\u001b[39m\u001b[38;5;124m+\u001b[39m\u001b[38;5;124m\"\u001b[39m)\n\u001b[1;32m      4\u001b[0m (venstre, høyre, venstre \u001b[38;5;241m==\u001b[39m høyre)\n",
      "File \u001b[0;32m/nix/store/jqhf90v2f0m438sg470lsrs4dq240419-python3-3.10.9-env/lib/python3.10/site-packages/sympy/series/limits.py:64\u001b[0m, in \u001b[0;36mlimit\u001b[0;34m(e, z, z0, dir)\u001b[0m\n\u001b[1;32m     13\u001b[0m \u001b[38;5;28;01mdef\u001b[39;00m \u001b[38;5;21mlimit\u001b[39m(e, z, z0, \u001b[38;5;28mdir\u001b[39m\u001b[38;5;241m=\u001b[39m\u001b[38;5;124m\"\u001b[39m\u001b[38;5;124m+\u001b[39m\u001b[38;5;124m\"\u001b[39m):\n\u001b[1;32m     14\u001b[0m     \u001b[38;5;124;03m\"\"\"Computes the limit of ``e(z)`` at the point ``z0``.\u001b[39;00m\n\u001b[1;32m     15\u001b[0m \n\u001b[1;32m     16\u001b[0m \u001b[38;5;124;03m    Parameters\u001b[39;00m\n\u001b[0;32m   (...)\u001b[0m\n\u001b[1;32m     61\u001b[0m \u001b[38;5;124;03m     limit_seq : returns the limit of a sequence.\u001b[39;00m\n\u001b[1;32m     62\u001b[0m \u001b[38;5;124;03m    \"\"\"\u001b[39;00m\n\u001b[0;32m---> 64\u001b[0m     \u001b[38;5;28;01mreturn\u001b[39;00m \u001b[43mLimit\u001b[49m\u001b[43m(\u001b[49m\u001b[43me\u001b[49m\u001b[43m,\u001b[49m\u001b[43m \u001b[49m\u001b[43mz\u001b[49m\u001b[43m,\u001b[49m\u001b[43m \u001b[49m\u001b[43mz0\u001b[49m\u001b[43m,\u001b[49m\u001b[43m \u001b[49m\u001b[38;5;28;43mdir\u001b[39;49m\u001b[43m)\u001b[49m\u001b[38;5;241;43m.\u001b[39;49m\u001b[43mdoit\u001b[49m\u001b[43m(\u001b[49m\u001b[43mdeep\u001b[49m\u001b[38;5;241;43m=\u001b[39;49m\u001b[38;5;28;43;01mFalse\u001b[39;49;00m\u001b[43m)\u001b[49m\n",
      "File \u001b[0;32m/nix/store/jqhf90v2f0m438sg470lsrs4dq240419-python3-3.10.9-env/lib/python3.10/site-packages/sympy/series/limits.py:277\u001b[0m, in \u001b[0;36mLimit.doit\u001b[0;34m(self, **hints)\u001b[0m\n\u001b[1;32m    273\u001b[0m     e \u001b[38;5;241m=\u001b[39m nsimplify(e)\n\u001b[1;32m    274\u001b[0m e \u001b[38;5;241m=\u001b[39m set_signs(e)\n\u001b[0;32m--> 277\u001b[0m \u001b[38;5;28;01mif\u001b[39;00m \u001b[43me\u001b[49m\u001b[38;5;241;43m.\u001b[39;49m\u001b[43mis_meromorphic\u001b[49m\u001b[43m(\u001b[49m\u001b[43mz\u001b[49m\u001b[43m,\u001b[49m\u001b[43m \u001b[49m\u001b[43mz0\u001b[49m\u001b[43m)\u001b[49m:\n\u001b[1;32m    278\u001b[0m     \u001b[38;5;28;01mif\u001b[39;00m \u001b[38;5;28mabs\u001b[39m(z0) \u001b[38;5;129;01mis\u001b[39;00m S\u001b[38;5;241m.\u001b[39mInfinity:\n\u001b[1;32m    279\u001b[0m         newe \u001b[38;5;241m=\u001b[39m e\u001b[38;5;241m.\u001b[39msubs(z, \u001b[38;5;241m1\u001b[39m\u001b[38;5;241m/\u001b[39mz)\n",
      "File \u001b[0;32m/nix/store/jqhf90v2f0m438sg470lsrs4dq240419-python3-3.10.9-env/lib/python3.10/site-packages/sympy/core/expr.py:2776\u001b[0m, in \u001b[0;36mExpr.is_meromorphic\u001b[0;34m(self, x, a)\u001b[0m\n\u001b[1;32m   2773\u001b[0m     \u001b[38;5;28;01mraise\u001b[39;00m \u001b[38;5;167;01mTypeError\u001b[39;00m(\u001b[38;5;124m\"\u001b[39m\u001b[38;5;132;01m{}\u001b[39;00m\u001b[38;5;124m should be of symbol type\u001b[39m\u001b[38;5;124m\"\u001b[39m\u001b[38;5;241m.\u001b[39mformat(x))\n\u001b[1;32m   2774\u001b[0m a \u001b[38;5;241m=\u001b[39m sympify(a)\n\u001b[0;32m-> 2776\u001b[0m \u001b[38;5;28;01mreturn\u001b[39;00m \u001b[38;5;28;43mself\u001b[39;49m\u001b[38;5;241;43m.\u001b[39;49m\u001b[43m_eval_is_meromorphic\u001b[49m\u001b[43m(\u001b[49m\u001b[43mx\u001b[49m\u001b[43m,\u001b[49m\u001b[43m \u001b[49m\u001b[43ma\u001b[49m\u001b[43m)\u001b[49m\n",
      "File \u001b[0;32m/nix/store/jqhf90v2f0m438sg470lsrs4dq240419-python3-3.10.9-env/lib/python3.10/site-packages/sympy/core/function.py:623\u001b[0m, in \u001b[0;36mFunction._eval_is_meromorphic\u001b[0;34m(self, x, a)\u001b[0m\n\u001b[1;32m    620\u001b[0m     \u001b[38;5;28;01mreturn\u001b[39;00m \u001b[38;5;28;01mFalse\u001b[39;00m\n\u001b[1;32m    622\u001b[0m arg \u001b[38;5;241m=\u001b[39m \u001b[38;5;28mself\u001b[39m\u001b[38;5;241m.\u001b[39margs[\u001b[38;5;241m0\u001b[39m]\n\u001b[0;32m--> 623\u001b[0m \u001b[38;5;28;01mif\u001b[39;00m \u001b[38;5;129;01mnot\u001b[39;00m \u001b[43marg\u001b[49m\u001b[38;5;241;43m.\u001b[39;49m\u001b[43m_eval_is_meromorphic\u001b[49m(x, a):\n\u001b[1;32m    624\u001b[0m     \u001b[38;5;28;01mreturn\u001b[39;00m \u001b[38;5;28;01mNone\u001b[39;00m\n\u001b[1;32m    626\u001b[0m \u001b[38;5;28;01mreturn\u001b[39;00m fuzzy_not(\u001b[38;5;28mtype\u001b[39m(\u001b[38;5;28mself\u001b[39m)\u001b[38;5;241m.\u001b[39mis_singular(arg\u001b[38;5;241m.\u001b[39msubs(x, a)))\n",
      "\u001b[0;31mAttributeError\u001b[0m: 'ExprCondPair' object has no attribute '_eval_is_meromorphic'"
     ]
    }
   ],
   "source": [
    "d_delt_f = sp.diff(delt_f)\n",
    "venstre = sp.limit(d_delt_f, x, 0, dir=\"-\")\n",
    "høyre = sp.limit(d_delt_f, x, 0, dir=\"+\")\n",
    "(venstre, høyre, venstre == høyre)"
   ]
  },
  {
   "cell_type": "markdown",
   "id": "bed26f8d-b8c9-4e96-972b-47b347579c71",
   "metadata": {},
   "source": [
    "## Logaritmer"
   ]
  },
  {
   "cell_type": "code",
   "execution_count": 54,
   "id": "5d8668b2-a034-4cbe-b72f-22b5c5200da1",
   "metadata": {
    "tags": []
   },
   "outputs": [
    {
     "data": {
      "image/png": "[encoded data removed]",
      "text/latex": [
       "$\\displaystyle 4.61$"
      ],
      "text/plain": [
       "4.61"
      ]
     },
     "execution_count": 54,
     "metadata": {},
     "output_type": "execute_result"
    }
   ],
   "source": [
    "sp.log(100) # ln\n",
    "sp.log(100, 10) # lg\n",
    "sp.log(100).evalf() # numerisk\n",
    "sp.log(100).evalf(3) # numerisk med 3 desimaler"
   ]
  },
  {
   "cell_type": "markdown",
   "id": "03696871-fc2f-4acc-b82c-cd2dbe0d4880",
   "metadata": {
    "tags": []
   },
   "source": [
    "# Plotting"
   ]
  },
  {
   "cell_type": "code",
   "execution_count": 49,
   "id": "fd598d07-765a-4534-9fbb-4ed3b8e50943",
   "metadata": {
    "tags": []
   },
   "outputs": [
    {
     "data": {
      "image/png": "[encoded data removed]",
      "text/plain": [
       "<Figure size 640x480 with 1 Axes>"
      ]
     },
     "metadata": {},
     "output_type": "display_data"
    }
   ],
   "source": [
    "from sympy.plotting import plot\n",
    "\n",
    "# Alle kwargs er valgfri:\n",
    "plott1 = plot(\n",
    "    sp.exp(x), # man kan plotte flere funksjoner :o\n",
    "    sp.log(x),\n",
    "    (x, 0.01, 2),\n",
    "    title=\"Nydelig vakker graf\",\n",
    "    xlabel=\"x, timer etter midnatt\",\n",
    "    ylabel=\"y label\",\n",
    "    legend=True\n",
    ")\n",
    "# plott1.show() # fordi jupyter"
   ]
  }
 ],
 "metadata": {
  "kernelspec": {
   "display_name": "python-minimal kernel",
   "language": "python",
   "name": "python-minimal"
  },
  "language_info": {
   "codemirror_mode": {
    "name": "ipython",
    "version": 3
   },
   "file_extension": ".py",
   "mimetype": "text/x-python",
   "name": "python",
   "nbconvert_exporter": "python",
   "pygments_lexer": "ipython3",
   "version": "3.10.9"
  }
 },
 "nbformat": 4,
 "nbformat_minor": 5
}
