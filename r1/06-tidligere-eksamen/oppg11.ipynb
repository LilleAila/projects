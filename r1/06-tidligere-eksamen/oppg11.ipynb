{
 "cells": [
  {
   "cell_type": "code",
   "execution_count": 22,
   "id": "507bfc05-93da-49c4-a22a-5d2abb9f8d1e",
   "metadata": {},
   "outputs": [],
   "source": [
    "from matplotlib import pyplot as plt\n",
    "import numpy as np\n",
    "import sympy as sp\n",
    "from scipy.optimize import curve_fit, fsolve\n",
    "from scipy.signal import argrelextrema"
   ]
  },
  {
   "cell_type": "code",
   "execution_count": 4,
   "id": "323e86c4-c25f-48ae-b1ce-ed0891c76cda",
   "metadata": {},
   "outputs": [],
   "source": [
    "def f(t):\n",
    "    return 22 + 15.5 * np.exp(-0.05 * t)"
   ]
  },
  {
   "cell_type": "code",
   "execution_count": 5,
   "id": "e478d62f-114e-4afc-95fc-dd4fd62a8789",
   "metadata": {},
   "outputs": [
    {
     "data": {
      "text/plain": [
       "np.float64(37.5)"
      ]
     },
     "execution_count": 5,
     "metadata": {},
     "output_type": "execute_result"
    }
   ],
   "source": [
    "f(0)"
   ]
  },
  {
   "cell_type": "code",
   "execution_count": 11,
   "id": "827c29b5-6802-41bd-9a9d-5ba6187d1473",
   "metadata": {},
   "outputs": [
    {
     "data": {
      "text/plain": [
       "array([18.98161109])"
      ]
     },
     "execution_count": 11,
     "metadata": {},
     "output_type": "execute_result"
    }
   ],
   "source": [
    "fsolve(lambda t: f(t) - 28, 0)"
   ]
  },
  {
   "cell_type": "code",
   "execution_count": 21,
   "id": "edd76ecc-b27f-480a-8809-0b44335ad8a6",
   "metadata": {},
   "outputs": [
    {
     "data": {
      "text/latex": [
       "$\\displaystyle 22$"
      ],
      "text/plain": [
       "22"
      ]
     },
     "execution_count": 21,
     "metadata": {},
     "output_type": "execute_result"
    }
   ],
   "source": [
    "t = sp.symbols(\"t\")\n",
    "g = 22 + 15.5 * sp.exp(-0.05 * t)\n",
    "sp.limit(g, t, sp.oo)"
   ]
  },
  {
   "cell_type": "code",
   "execution_count": 35,
   "id": "81c59583-7409-4ec1-87be-93ddab78701c",
   "metadata": {},
   "outputs": [
    {
     "data": {
      "text/latex": [
       "$\\displaystyle 37.5$"
      ],
      "text/plain": [
       "37.5000000000000"
      ]
     },
     "execution_count": 35,
     "metadata": {},
     "output_type": "execute_result"
    }
   ],
   "source": [
    "def h(t):\n",
    "    # endrer asymptoten 15 til 4\n",
    "    # endrer 15.5 til 33.5 slik at f(0) blir lik 37.7 fordi 33.5 * e^0 = 33.5\n",
    "    return 4 + 33.5 * np.exp(-0.5 * t)\n",
    "\n",
    "h = 4 + 33.5 * sp.exp(-0.5 * t)\n",
    "h\n",
    "h.subs(t, 0)"
   ]
  }
 ],
 "metadata": {
  "kernelspec": {
   "display_name": "Python 3 (ipykernel)",
   "language": "python",
   "name": "python3"
  },
  "language_info": {
   "codemirror_mode": {
    "name": "ipython",
    "version": 3
   },
   "file_extension": ".py",
   "mimetype": "text/x-python",
   "name": "python",
   "nbconvert_exporter": "python",
   "pygments_lexer": "ipython3",
   "version": "3.12.9"
  }
 },
 "nbformat": 4,
 "nbformat_minor": 5
}
