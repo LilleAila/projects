{
 "cells": [
  {
   "cell_type": "markdown",
   "id": "81731795-e2b9-44fc-b934-6953454f2a7a",
   "metadata": {},
   "source": [
    "# Likninger og halvveringsmetoden\n",
    "\n",
    "Ser på likningen\n",
    "$$\n",
    "5\\ln{\\left(x^{3} +2\\right)} = 6-x\n",
    "$$\n",
    "\n",
    "Ser heller på\n",
    "\n",
    "$$\n",
    "5\\ln{\\left(x^{3}+2\\right)} - 6+x = 0\n",
    "$$\n",
    "\n",
    "La $f \\left(x\\right) = 5\\ln{\\left(x^{3}+2\\right)} - 6+x$. Likningen vi skal løse blir $f \\left(x\\right)=0$."
   ]
  },
  {
   "cell_type": "code",
   "execution_count": 10,
   "id": "c3f85fbd-2614-4226-8533-4cb479cc9b53",
   "metadata": {
    "tags": []
   },
   "outputs": [],
   "source": [
    "# Importere dependencies\n",
    "import numpy as np"
   ]
  },
  {
   "cell_type": "code",
   "execution_count": 43,
   "id": "a8be17e9-c72f-48d5-b306-08981d7127bb",
   "metadata": {
    "tags": []
   },
   "outputs": [],
   "source": [
    "def halvveringsmetode(f, a, b, feil=1E-4) ->float:\n",
    "    m = (a + b) / 2\n",
    "\n",
    "    while abs(f(m)) > feil:\n",
    "        if f(a) * f(m) > 0:\n",
    "            a = m\n",
    "        else:\n",
    "            b = m\n",
    "        m = (a + b) / 2\n",
    "    \n",
    "    return m"
   ]
  },
  {
   "cell_type": "code",
   "execution_count": 47,
   "id": "6786c597-e557-40a9-b6b0-171307984e42",
   "metadata": {
    "tags": []
   },
   "outputs": [
    {
     "name": "stdout",
     "output_type": "stream",
     "text": [
      "Likningen har løsning tilnærmet lik x=0.9146\n"
     ]
    }
   ],
   "source": [
    "f = lambda x: 5 * np.log(x ** 3 + 2) - 6 + x\n",
    "løsning1 = halvveringsmetode(f, 0, 1)\n",
    "print(f\"Likningen har løsning tilnærmet lik x={løsning1:.4f}\")"
   ]
  },
  {
   "cell_type": "markdown",
   "id": "ab368ae2-1f1d-49a8-aa3b-0c8835180183",
   "metadata": {},
   "source": [
    "# Oppgave 2\n",
    "\n",
    "$$\n",
    "350 \\cdot 1.2 ^ {x} = 756 \\implies f \\left(x\\right) = 350 \\cdot 1.2 ^ {x} - 756\n",
    "$$"
   ]
  },
  {
   "cell_type": "code",
   "execution_count": 59,
   "id": "87c1c7eb-e814-4ebd-b784-80206a587875",
   "metadata": {
    "tags": []
   },
   "outputs": [
    {
     "name": "stdout",
     "output_type": "stream",
     "text": [
      "Likningen har løsning tilnærmet lik x=4.223901\n"
     ]
    }
   ],
   "source": [
    "g = lambda x: 350 * 1.2 ** x - 756\n",
    "løsning2 = halvveringsmetode(g, -10, 10)\n",
    "print(f\"Likningen har løsning tilnærmet lik x={løsning2:4f}\")"
   ]
  }
 ],
 "metadata": {
  "kernelspec": {
   "display_name": "python-minimal kernel",
   "language": "python",
   "name": "python-minimal"
  },
  "language_info": {
   "codemirror_mode": {
    "name": "ipython",
    "version": 3
   },
   "file_extension": ".py",
   "mimetype": "text/x-python",
   "name": "python",
   "nbconvert_exporter": "python",
   "pygments_lexer": "ipython3",
   "version": "3.10.9"
  }
 },
 "nbformat": 4,
 "nbformat_minor": 5
}
