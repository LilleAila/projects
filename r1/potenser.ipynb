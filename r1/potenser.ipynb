{
 "cells": [
  {
   "cell_type": "markdown",
   "id": "33afbe4a-0d38-44c8-bc9b-f6c0bfa0208d",
   "metadata": {},
   "source": [
    "# Potenser og røtter\n",
    "\n",
    "Intro til python og 1A"
   ]
  },
  {
   "cell_type": "code",
   "execution_count": 1,
   "id": "db92a0a8-42f5-4f0b-8a07-883662ae5a99",
   "metadata": {
    "tags": []
   },
   "outputs": [
    {
     "name": "stdout",
     "output_type": "stream",
     "text": [
      "64\n"
     ]
    }
   ],
   "source": [
    "print(2 ** 6)"
   ]
  },
  {
   "cell_type": "code",
   "execution_count": 4,
   "id": "3b1648a7-e03f-4820-a51d-825f47934a81",
   "metadata": {
    "tags": []
   },
   "outputs": [
    {
     "name": "stdout",
     "output_type": "stream",
     "text": [
      "8.0\n"
     ]
    }
   ],
   "source": [
    "print(64**(1/2))"
   ]
  },
  {
   "cell_type": "code",
   "execution_count": 6,
   "id": "79d9bf16-7faf-41e6-b5f8-3ae971730634",
   "metadata": {
    "tags": []
   },
   "outputs": [
    {
     "data": {
      "text/plain": [
       "5.0"
      ]
     },
     "execution_count": 6,
     "metadata": {},
     "output_type": "execute_result"
    }
   ],
   "source": [
    "25**(5*1/4)*25**(-3/4)"
   ]
  },
  {
   "cell_type": "code",
   "execution_count": 1,
   "id": "8838ebf4-519c-4f49-9453-a8af0b140b3b",
   "metadata": {},
   "outputs": [],
   "source": [
    "import numpy as np"
   ]
  },
  {
   "cell_type": "code",
   "execution_count": 2,
   "id": "41c6fb07-d183-4456-89df-118926629105",
   "metadata": {
    "tags": []
   },
   "outputs": [
    {
     "data": {
      "text/plain": [
       "array([ 6. , -3. ,  0.5])"
      ]
     },
     "execution_count": 2,
     "metadata": {},
     "output_type": "execute_result"
    }
   ],
   "source": [
    "np.log10([1000000, 0.001, 10**(1/2)])"
   ]
  },
  {
   "cell_type": "code",
   "execution_count": null,
   "id": "68fc4807-2e8f-4f18-bb80-322b0c2dd163",
   "metadata": {},
   "outputs": [],
   "source": []
  }
 ],
 "metadata": {
  "kernelspec": {
   "display_name": "python-minimal kernel",
   "language": "python",
   "name": "python-minimal"
  },
  "language_info": {
   "codemirror_mode": {
    "name": "ipython",
    "version": 3
   },
   "file_extension": ".py",
   "mimetype": "text/x-python",
   "name": "python",
   "nbconvert_exporter": "python",
   "pygments_lexer": "ipython3",
   "version": "3.10.9"
  }
 },
 "nbformat": 4,
 "nbformat_minor": 5
}
