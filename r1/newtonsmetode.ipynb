{
 "cells": [
  {
   "cell_type": "code",
   "execution_count": 30,
   "id": "6827b6dd-fd8b-4518-ba78-19a70b175296",
   "metadata": {
    "tags": []
   },
   "outputs": [
    {
     "name": "stdout",
     "output_type": "stream",
     "text": [
      "Funksjonen f(x) har nullpunkt i (-0.59876, 0)\n"
     ]
    }
   ],
   "source": [
    "import numpy as np\n",
    "\n",
    "# Definere f(x)=e^(2x) + x^3 - 2x^2 - x\n",
    "def f(x):\n",
    "    return np.e ** (2 * x) + x ** 3 - 2 * x ** 2 - x\n",
    "\n",
    "dx = 0.00001 # Velger en liten verdi for delta x\n",
    "x0 = 1 # Starter på x=1 med første tangent\n",
    "\n",
    "def f_derivert(a): # Definisjonen av den deriverte, med liten dx\n",
    "    return (f(a + dx) - f(a)) / dx\n",
    "\n",
    "def newtons_metode(x): # Newtons metode, for å finne x av neste tangent\n",
    "    return x - f(x) / f_derivert(x)\n",
    "\n",
    "for i in range(5): # Gjenta newtons metode til man finner et godt svar\n",
    "    x0 = newtons_metode(x0)\n",
    "\n",
    "# Printe svaret, rundet av til 5 desimaler\n",
    "print(f\"Funksjonen f(x) har nullpunkt i ({x0:.5f}, 0)\")"
   ]
  }
 ],
 "metadata": {
  "kernelspec": {
   "display_name": "python-minimal kernel",
   "language": "python",
   "name": "python-minimal"
  },
  "language_info": {
   "codemirror_mode": {
    "name": "ipython",
    "version": 3
   },
   "file_extension": ".py",
   "mimetype": "text/x-python",
   "name": "python",
   "nbconvert_exporter": "python",
   "pygments_lexer": "ipython3",
   "version": "3.10.9"
  }
 },
 "nbformat": 4,
 "nbformat_minor": 5
}
